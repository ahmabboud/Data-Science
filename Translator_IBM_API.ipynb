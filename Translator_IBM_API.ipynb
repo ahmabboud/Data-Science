{
    "cells": [
        {
            "cell_type": "code",
            "execution_count": null,
            "metadata": {},
            "outputs": [],
            "source": "# Translate API IBM Watson"
        },
        {
            "cell_type": "code",
            "execution_count": 9,
            "metadata": {},
            "outputs": [
                {
                    "name": "stdout",
                    "output_type": "stream",
                    "text": "Collecting ibm-watson\n  Downloading ibm-watson-4.3.0.tar.gz (360 kB)\nRequirement already satisfied, skipping upgrade: requests<3.0,>=2.0 in c:\\programdata\\anaconda3\\lib\\site-packages (from ibm-watson) (2.21.0)\nRequirement already satisfied, skipping upgrade: python_dateutil>=2.5.3 in c:\\programdata\\anaconda3\\lib\\site-packages (from ibm-watson) (2.7.5)\nRequirement already satisfied, skipping upgrade: websocket-client==0.48.0 in c:\\programdata\\anaconda3\\lib\\site-packages (from ibm-watson) (0.48.0)\nCollecting ibm_cloud_sdk_core==1.5.1\n  Downloading ibm-cloud-sdk-core-1.5.1.tar.gz (25 kB)\nRequirement already satisfied, skipping upgrade: chardet<3.1.0,>=3.0.2 in c:\\programdata\\anaconda3\\lib\\site-packages (from requests<3.0,>=2.0->ibm-watson) (3.0.4)\nRequirement already satisfied, skipping upgrade: urllib3<1.25,>=1.21.1 in c:\\programdata\\anaconda3\\lib\\site-packages (from requests<3.0,>=2.0->ibm-watson) (1.24.1)\nRequirement already satisfied, skipping upgrade: idna<2.9,>=2.5 in c:\\programdata\\anaconda3\\lib\\site-packages (from requests<3.0,>=2.0->ibm-watson) (2.8)\nRequirement already satisfied, skipping upgrade: certifi>=2017.4.17 in c:\\programdata\\anaconda3\\lib\\site-packages (from requests<3.0,>=2.0->ibm-watson) (2019.11.28)\nRequirement already satisfied, skipping upgrade: six>=1.5 in c:\\users\\ahb\\appdata\\roaming\\python\\python37\\site-packages (from python_dateutil>=2.5.3->ibm-watson) (1.12.0)\nCollecting PyJWT>=1.7.1\n  Downloading PyJWT-1.7.1-py2.py3-none-any.whl (18 kB)\nBuilding wheels for collected packages: ibm-watson, ibm-cloud-sdk-core\n  Building wheel for ibm-watson (setup.py): started\n  Building wheel for ibm-watson (setup.py): finished with status 'done'\n  Created wheel for ibm-watson: filename=ibm_watson-4.3.0-py3-none-any.whl size=354173 sha256=979b5ab505e178fc460930420e1fb1ab8b8dea6faaae8534b710db1f8440004c\n  Stored in directory: c:\\users\\ahb\\appdata\\local\\pip\\cache\\wheels\\2c\\e7\\02\\3ed9f7fcbaf5fbd036d80ca4eaf27721621ee4524450cadd13\n  Building wheel for ibm-cloud-sdk-core (setup.py): started\n  Building wheel for ibm-cloud-sdk-core (setup.py): finished with status 'done'\n  Created wheel for ibm-cloud-sdk-core: filename=ibm_cloud_sdk_core-1.5.1-py3-none-any.whl size=44493 sha256=e165955d7492d8ea8ae79160618cc109b8a07d2f2ca7a2a4972d94f0bc8e2d5e\n  Stored in directory: c:\\users\\ahb\\appdata\\local\\pip\\cache\\wheels\\51\\37\\f5\\0532ca77cb49d7405e309bb16e3bf3fd4488baabf0f326c63d\nSuccessfully built ibm-watson ibm-cloud-sdk-core\nInstalling collected packages: PyJWT, ibm-cloud-sdk-core, ibm-watson\nSuccessfully installed PyJWT-1.7.1 ibm-cloud-sdk-core-1.5.1 ibm-watson-4.3.0\n"
                }
            ],
            "source": "# if not installed\n#!pip install --upgrade watson-developer-cloud\n#!pip install --upgrade ibm-watson"
        },
        {
            "cell_type": "code",
            "execution_count": 16,
            "metadata": {},
            "outputs": [],
            "source": "# call the Translate Library\nfrom watson_developer_cloud import LanguageTranslatorV3 as Translator\n#from ibm_watson import LanguageTranslatorV3 as Translator"
        },
        {
            "cell_type": "code",
            "execution_count": null,
            "metadata": {},
            "outputs": [],
            "source": ""
        },
        {
            "cell_type": "code",
            "execution_count": 17,
            "metadata": {},
            "outputs": [],
            "source": "# Set the URL and keys\nurl_trans=\"https://api.eu-gb.language-translator.watson.cloud.ibm.com/instances/334e49d5-a661-499b-9f38-88024a9bed9e\"\nkeyTrans=\"iHe58CFCdgTcVNIz_-H-budN3s1g8Xme3dC2FJwh7sAV\"\nv_trans='2018-05-01'"
        },
        {
            "cell_type": "code",
            "execution_count": 13,
            "metadata": {},
            "outputs": [
                {
                    "name": "stdout",
                    "output_type": "stream",
                    "text": "Help on class LanguageTranslatorV3 in module ibm_watson.language_translator_v3:\n\nclass LanguageTranslatorV3(ibm_cloud_sdk_core.base_service.BaseService)\n |  LanguageTranslatorV3(version: str, authenticator: ibm_cloud_sdk_core.authenticators.authenticator.Authenticator = None, service_name: str = 'language_translator') -> None\n |  \n |  The Language Translator V3 service.\n |  \n |  Method resolution order:\n |      LanguageTranslatorV3\n |      ibm_cloud_sdk_core.base_service.BaseService\n |      builtins.object\n |  \n |  Methods defined here:\n |  \n |  __init__(self, version: str, authenticator: ibm_cloud_sdk_core.authenticators.authenticator.Authenticator = None, service_name: str = 'language_translator') -> None\n |      Construct a new client for the Language Translator service.\n |      \n |      :param str version: The API version date to use with the service, in\n |             \"YYYY-MM-DD\" format. Whenever the API is changed in a backwards\n |             incompatible way, a new minor version of the API is released.\n |             The service uses the API version for the date you specify, or\n |             the most recent version before that date. Note that you should\n |             not programmatically specify the current date at runtime, in\n |             case the API has been updated since your application's release.\n |             Instead, specify a version date that is compatible with your\n |             application, and don't change it until your application is\n |             ready for a later version.\n |      \n |      :param Authenticator authenticator: The authenticator specifies the authentication mechanism.\n |             Get up to date information from https://github.com/IBM/python-sdk-core/blob/master/README.md\n |             about initializing the authenticator of your choice.\n |  \n |  create_model(self, base_model_id: str, *, forced_glossary: <class 'BinaryIO'> = None, parallel_corpus: <class 'BinaryIO'> = None, name: str = None, **kwargs) -> 'DetailedResponse'\n |      Create model.\n |      \n |      Uploads Translation Memory eXchange (TMX) files to customize a translation model.\n |      You can either customize a model with a forced glossary or with a corpus that\n |      contains parallel sentences. To create a model that is customized with a parallel\n |      corpus <b>and</b> a forced glossary, proceed in two steps: customize with a\n |      parallel corpus first and then customize the resulting model with a glossary.\n |      Depending on the type of customization and the size of the uploaded corpora,\n |      training can range from minutes for a glossary to several hours for a large\n |      parallel corpus. You can upload a single forced glossary file and this file must\n |      be less than <b>10 MB</b>. You can upload multiple parallel corpora tmx files. The\n |      cumulative file size of all uploaded files is limited to <b>250 MB</b>. To\n |      successfully train with a parallel corpus you must have at least <b>5,000 parallel\n |      sentences</b> in your corpus.\n |      You can have a <b>maximum of 10 custom models per language pair</b>.\n |      \n |      :param str base_model_id: The model ID of the model to use as the base for\n |             customization. To see available models, use the `List models` method.\n |             Usually all IBM provided models are customizable. In addition, all your\n |             models that have been created via parallel corpus customization, can be\n |             further customized with a forced glossary.\n |      :param TextIO forced_glossary: (optional) A TMX file with your\n |             customizations. The customizations in the file completely overwrite the\n |             domain translaton data, including high frequency or high confidence phrase\n |             translations. You can upload only one glossary with a file size less than\n |             10 MB per call. A forced glossary should contain single words or short\n |             phrases.\n |      :param TextIO parallel_corpus: (optional) A TMX file with parallel\n |             sentences for source and target language. You can upload multiple\n |             parallel_corpus files in one request. All uploaded parallel_corpus files\n |             combined, your parallel corpus must contain at least 5,000 parallel\n |             sentences to train successfully.\n |      :param str name: (optional) An optional model name that you can use to\n |             identify the model. Valid characters are letters, numbers, dashes,\n |             underscores, spaces and apostrophes. The maximum length is 32 characters.\n |      :param dict headers: A `dict` containing the request headers\n |      :return: A `DetailedResponse` containing the result, headers and HTTP status code.\n |      :rtype: DetailedResponse\n |  \n |  delete_document(self, document_id: str, **kwargs) -> 'DetailedResponse'\n |      Delete document.\n |      \n |      Deletes a document.\n |      \n |      :param str document_id: Document ID of the document to delete.\n |      :param dict headers: A `dict` containing the request headers\n |      :return: A `DetailedResponse` containing the result, headers and HTTP status code.\n |      :rtype: DetailedResponse\n |  \n |  delete_model(self, model_id: str, **kwargs) -> 'DetailedResponse'\n |      Delete model.\n |      \n |      Deletes a custom translation model.\n |      \n |      :param str model_id: Model ID of the model to delete.\n |      :param dict headers: A `dict` containing the request headers\n |      :return: A `DetailedResponse` containing the result, headers and HTTP status code.\n |      :rtype: DetailedResponse\n |  \n |  get_document_status(self, document_id: str, **kwargs) -> 'DetailedResponse'\n |      Get document status.\n |      \n |      Gets the translation status of a document.\n |      \n |      :param str document_id: The document ID of the document.\n |      :param dict headers: A `dict` containing the request headers\n |      :return: A `DetailedResponse` containing the result, headers and HTTP status code.\n |      :rtype: DetailedResponse\n |  \n |  get_model(self, model_id: str, **kwargs) -> 'DetailedResponse'\n |      Get model details.\n |      \n |      Gets information about a translation model, including training status for custom\n |      models. Use this API call to poll the status of your customization request. A\n |      successfully completed training will have a status of `available`.\n |      \n |      :param str model_id: Model ID of the model to get.\n |      :param dict headers: A `dict` containing the request headers\n |      :return: A `DetailedResponse` containing the result, headers and HTTP status code.\n |      :rtype: DetailedResponse\n |  \n |  get_translated_document(self, document_id: str, *, accept: str = None, **kwargs) -> 'DetailedResponse'\n |      Get translated document.\n |      \n |      Gets the translated document associated with the given document ID.\n |      \n |      :param str document_id: The document ID of the document that was submitted\n |             for translation.\n |      :param str accept: (optional) The type of the response:\n |             application/powerpoint, application/mspowerpoint, application/x-rtf,\n |             application/json, application/xml, application/vnd.ms-excel,\n |             application/vnd.openxmlformats-officedocument.spreadsheetml.sheet,\n |             application/vnd.ms-powerpoint,\n |             application/vnd.openxmlformats-officedocument.presentationml.presentation,\n |             application/msword,\n |             application/vnd.openxmlformats-officedocument.wordprocessingml.document,\n |             application/vnd.oasis.opendocument.spreadsheet,\n |             application/vnd.oasis.opendocument.presentation,\n |             application/vnd.oasis.opendocument.text, application/pdf, application/rtf,\n |             text/html, text/json, text/plain, text/richtext, text/rtf, or text/xml. A\n |             character encoding can be specified by including a `charset` parameter. For\n |             example, 'text/html;charset=utf-8'.\n |      :param dict headers: A `dict` containing the request headers\n |      :return: A `DetailedResponse` containing the result, headers and HTTP status code.\n |      :rtype: DetailedResponse\n |  \n |  identify(self, text: str, **kwargs) -> 'DetailedResponse'\n |      Identify language.\n |      \n |      Identifies the language of the input text.\n |      \n |      :param str text: Input text in UTF-8 format.\n |      :param dict headers: A `dict` containing the request headers\n |      :return: A `DetailedResponse` containing the result, headers and HTTP status code.\n |      :rtype: DetailedResponse\n |  \n |  list_documents(self, **kwargs) -> 'DetailedResponse'\n |      List documents.\n |      \n |      Lists documents that have been submitted for translation.\n |      \n |      :param dict headers: A `dict` containing the request headers\n |      :return: A `DetailedResponse` containing the result, headers and HTTP status code.\n |      :rtype: DetailedResponse\n |  \n |  list_identifiable_languages(self, **kwargs) -> 'DetailedResponse'\n |      List identifiable languages.\n |      \n |      Lists the languages that the service can identify. Returns the language code (for\n |      example, `en` for English or `es` for Spanish) and name of each language.\n |      \n |      :param dict headers: A `dict` containing the request headers\n |      :return: A `DetailedResponse` containing the result, headers and HTTP status code.\n |      :rtype: DetailedResponse\n |  \n |  list_models(self, *, source: str = None, target: str = None, default: bool = None, **kwargs) -> 'DetailedResponse'\n |      List models.\n |      \n |      Lists available translation models.\n |      \n |      :param str source: (optional) Specify a language code to filter results by\n |             source language.\n |      :param str target: (optional) Specify a language code to filter results by\n |             target language.\n |      :param bool default: (optional) If the default parameter isn't specified,\n |             the service will return all models (default and non-default) for each\n |             language pair. To return only default models, set this to `true`. To return\n |             only non-default models, set this to `false`. There is exactly one default\n |             model per language pair, the IBM provided base model.\n |      :param dict headers: A `dict` containing the request headers\n |      :return: A `DetailedResponse` containing the result, headers and HTTP status code.\n |      :rtype: DetailedResponse\n |  \n |  translate(self, text: List[str], *, model_id: str = None, source: str = None, target: str = None, **kwargs) -> 'DetailedResponse'\n |      Translate.\n |      \n |      Translates the input text from the source language to the target language.\n |      \n |      :param List[str] text: Input text in UTF-8 encoding. Multiple entries will\n |             result in multiple translations in the response.\n |      :param str model_id: (optional) A globally unique string that identifies\n |             the underlying model that is used for translation.\n |      :param str source: (optional) Translation source language code.\n |      :param str target: (optional) Translation target language code.\n |      :param dict headers: A `dict` containing the request headers\n |      :return: A `DetailedResponse` containing the result, headers and HTTP status code.\n |      :rtype: DetailedResponse\n |  \n |  translate_document(self, file: <class 'BinaryIO'>, *, filename: str = None, file_content_type: str = None, model_id: str = None, source: str = None, target: str = None, document_id: str = None, **kwargs) -> 'DetailedResponse'\n |      Translate document.\n |      \n |      Submit a document for translation. You can submit the document contents in the\n |      `file` parameter, or you can reference a previously submitted document by document\n |      ID.\n |      \n |      :param TextIO file: The contents of the source file to translate.\n |             [Supported file\n |             types](https://cloud.ibm.com/docs/services/language-translator?topic=language-translator-document-translator-tutorial#supported-file-formats)\n |             Maximum file size: **20 MB**.\n |      :param str filename: (optional) The filename for file.\n |      :param str file_content_type: (optional) The content type of file.\n |      :param str model_id: (optional) The model to use for translation.\n |             `model_id` or both `source` and `target` are required.\n |      :param str source: (optional) Language code that specifies the language of\n |             the source document.\n |      :param str target: (optional) Language code that specifies the target\n |             language for translation.\n |      :param str document_id: (optional) To use a previously submitted document\n |             as the source for a new translation, enter the `document_id` of the\n |             document.\n |      :param dict headers: A `dict` containing the request headers\n |      :return: A `DetailedResponse` containing the result, headers and HTTP status code.\n |      :rtype: DetailedResponse\n |  \n |  ----------------------------------------------------------------------\n |  Data and other attributes defined here:\n |  \n |  DEFAULT_SERVICE_NAME = 'language_translator'\n |  \n |  DEFAULT_SERVICE_URL = 'https://gateway.watsonplatform.net/language-tra...\n |  \n |  ----------------------------------------------------------------------\n |  Methods inherited from ibm_cloud_sdk_core.base_service.BaseService:\n |  \n |  configure_service(self, service_name: str)\n |      Look for external configuration of a service. Set service properties.\n |      \n |      Try to get config from external sources, with the following priority:\n |      1. Credentials file(ibm-credentials.env)\n |      2. Environment variables\n |      3. VCAP Services(Cloud Foundry)\n |      \n |      Args:\n |          service_name: The service name\n |      \n |      Raises:\n |          ValueError: If service_name is not a string.\n |  \n |  get_authenticator(self) -> ibm_cloud_sdk_core.authenticators.authenticator.Authenticator\n |      Get the authenticator currently used by the service.\n |      \n |      Returns:\n |          The authenticator currently used by the service.\n |  \n |  prepare_request(self, method: str, url: str, headers: Union[dict, NoneType] = None, params: Union[dict, NoneType] = None, data: Union[str, dict, NoneType] = None, files: Union[Dict[str, Tuple[str]], List[Tuple[str, Tuple[str, ...]]], NoneType] = None, **kwargs) -> dict\n |      Build a dict that represents an HTTP service request.\n |      \n |      Clean up headers, add default http configuration, convert data\n |      into json, process files, and merge all into a single request dict.\n |      \n |      Args:\n |          method: The HTTP method of the request ex. GET, POST, etc.\n |          url: The origin + pathname according to WHATWG spec.\n |      \n |      Keyword Arguments:\n |          headers: Headers of the request.\n |          params: Querystring data to be appended to the url.\n |          data: The request body. Converted to json if a dict.\n |          files: 'files' can be a dictionary (i.e { '<part-name>': (<tuple>)}),\n |              or a list of tuples [ (<part-name>, (<tuple>))... ]\n |      \n |      Returns:\n |          Prepared request dictionary.\n |  \n |  send(self, request: requests.models.Request, **kwargs) -> ibm_cloud_sdk_core.detailed_response.DetailedResponse\n |      Send a request and wrap the response in a DetailedResponse or APIException.\n |      \n |      Args:\n |          request: The request to send to the service endpoint.\n |      \n |      Raises:\n |          ApiException: The exception from the API.\n |      \n |      Returns:\n |          The response from the request.\n |  \n |  set_default_headers(self, headers: Dict[str, str])\n |      Set http headers to be sent in every request.\n |      \n |      Arguments:\n |          headers: A dictionary of headers\n |  \n |  set_disable_ssl_verification(self, status: bool = False)\n |      Set the flag that indicates whether verification of\n |      the server's SSL certificate should be disabled or not.\n |      \n |      Keyword Arguments:\n |          status: set to true to disable ssl verification (default: {False})\n |  \n |  set_http_config(self, http_config: dict)\n |      Sets the http config dictionary.\n |      \n |      The dictionary can contain values that control the timeout, proxies, and etc of HTTP requests.\n |      \n |      Arguments:\n |          http_config: Configuration values to customize HTTP behaviors.\n |      \n |      Raises:\n |          TypeError: http_config is not a dict.\n |  \n |  set_service_url(self, service_url: str)\n |      Set the url the service will make HTTP requests too.\n |      \n |      Arguments:\n |          service_url: The WHATWG URL standard origin ex. https://example.service.com\n |      \n |      Raises:\n |          ValueError: Improperly formatted service_url\n |  \n |  ----------------------------------------------------------------------\n |  Static methods inherited from ibm_cloud_sdk_core.base_service.BaseService:\n |  \n |  encode_path_vars(*args: str) -> List[str]\n |      Encode path variables to be substituted into a URL path.\n |      \n |      Arguments:\n |          args: A list of strings to be URL path encoded\n |      \n |      Returns:\n |          A list of encoded strings that are safe to substitute into a URL path.\n |  \n |  ----------------------------------------------------------------------\n |  Data descriptors inherited from ibm_cloud_sdk_core.base_service.BaseService:\n |  \n |  __dict__\n |      dictionary for instance variables (if defined)\n |  \n |  __weakref__\n |      list of weak references to the object (if defined)\n |  \n |  ----------------------------------------------------------------------\n |  Data and other attributes inherited from ibm_cloud_sdk_core.base_service.BaseService:\n |  \n |  ERROR_MSG_DISABLE_SSL = 'The connection failed because the SSL certifi...\n |  \n |  SDK_NAME = 'ibm-python-sdk-core'\n\n"
                }
            ],
            "source": "help(Translator)"
        },
        {
            "cell_type": "code",
            "execution_count": 18,
            "metadata": {},
            "outputs": [
                {
                    "name": "stderr",
                    "output_type": "stream",
                    "text": "C:\\ProgramData\\Anaconda3\\lib\\site-packages\\ipykernel_launcher.py:2: DeprecationWarning: watson-developer-cloud moved to ibm-watson. To get updates, use the new package.\n  \n"
                }
            ],
            "source": "#Create API adapter object\nTrans=Translator(iam_apikey=keyTrans,url=url_trans,version=v_trans)\n\n"
        },
        {
            "cell_type": "code",
            "execution_count": 19,
            "metadata": {},
            "outputs": [
                {
                    "data": {
                        "text/plain": "{'languages': [{'language': 'af', 'name': 'Afrikaans'},\n  {'language': 'ar', 'name': 'Arabic'},\n  {'language': 'az', 'name': 'Azerbaijani'},\n  {'language': 'ba', 'name': 'Bashkir'},\n  {'language': 'be', 'name': 'Belarusian'},\n  {'language': 'bg', 'name': 'Bulgarian'},\n  {'language': 'bn', 'name': 'Bengali'},\n  {'language': 'ca', 'name': 'Catalan'},\n  {'language': 'cs', 'name': 'Czech'},\n  {'language': 'cv', 'name': 'Chuvash'},\n  {'language': 'da', 'name': 'Danish'},\n  {'language': 'de', 'name': 'German'},\n  {'language': 'el', 'name': 'Greek'},\n  {'language': 'en', 'name': 'English'},\n  {'language': 'eo', 'name': 'Esperanto'},\n  {'language': 'es', 'name': 'Spanish'},\n  {'language': 'et', 'name': 'Estonian'},\n  {'language': 'eu', 'name': 'Basque'},\n  {'language': 'fa', 'name': 'Persian'},\n  {'language': 'fi', 'name': 'Finnish'},\n  {'language': 'fr', 'name': 'French'},\n  {'language': 'ga', 'name': 'Irish'},\n  {'language': 'gu', 'name': 'Gujarati'},\n  {'language': 'he', 'name': 'Hebrew'},\n  {'language': 'hi', 'name': 'Hindi'},\n  {'language': 'hr', 'name': 'Croatian'},\n  {'language': 'ht', 'name': 'Haitian'},\n  {'language': 'hu', 'name': 'Hungarian'},\n  {'language': 'hy', 'name': 'Armenian'},\n  {'language': 'is', 'name': 'Icelandic'},\n  {'language': 'it', 'name': 'Italian'},\n  {'language': 'ja', 'name': 'Japanese'},\n  {'language': 'ka', 'name': 'Georgian'},\n  {'language': 'kk', 'name': 'Kazakh'},\n  {'language': 'km', 'name': 'Central Khmer'},\n  {'language': 'ko', 'name': 'Korean'},\n  {'language': 'ku', 'name': 'Kurdish'},\n  {'language': 'ky', 'name': 'Kirghiz'},\n  {'language': 'lt', 'name': 'Lithuanian'},\n  {'language': 'lv', 'name': 'Latvian'},\n  {'language': 'ml', 'name': 'Malayalam'},\n  {'language': 'mn', 'name': 'Mongolian'},\n  {'language': 'ms', 'name': 'Malay'},\n  {'language': 'mt', 'name': 'Maltese'},\n  {'language': 'nb', 'name': 'Norwegian Bokmal'},\n  {'language': 'nl', 'name': 'Dutch'},\n  {'language': 'nn', 'name': 'Norwegian Nynorsk'},\n  {'language': 'pa', 'name': 'Panjabi'},\n  {'language': 'pl', 'name': 'Polish'},\n  {'language': 'ps', 'name': 'Pushto'},\n  {'language': 'pt', 'name': 'Portuguese'},\n  {'language': 'ro', 'name': 'Romanian'},\n  {'language': 'ru', 'name': 'Russian'},\n  {'language': 'sk', 'name': 'Slovakian'},\n  {'language': 'sl', 'name': 'Slovenian'},\n  {'language': 'so', 'name': 'Somali'},\n  {'language': 'sq', 'name': 'Albanian'},\n  {'language': 'sr', 'name': 'Serbian'},\n  {'language': 'sv', 'name': 'Swedish'},\n  {'language': 'ta', 'name': 'Tamil'},\n  {'language': 'te', 'name': 'Telugu'},\n  {'language': 'th', 'name': 'Thai'},\n  {'language': 'tr', 'name': 'Turkish'},\n  {'language': 'uk', 'name': 'Ukrainian'},\n  {'language': 'ur', 'name': 'Urdu'},\n  {'language': 'vi', 'name': 'Vietnamese'},\n  {'language': 'zh', 'name': 'Simplified Chinese'},\n  {'language': 'zh-TW', 'name': 'Traditional Chinese'}]}"
                    },
                    "execution_count": 19,
                    "metadata": {},
                    "output_type": "execute_result"
                }
            ],
            "source": "# get list odf identifiable languages\nTrans.list_identifiable_languages().get_result()"
        },
        {
            "cell_type": "code",
            "execution_count": 20,
            "metadata": {},
            "outputs": [],
            "source": "# translate a given text in english to arabic\nTextEng=\"Hello I am trying to translate\"\n\nresponse=Trans.translate(text=TextEng, model_id=\"en-ar\")"
        },
        {
            "cell_type": "code",
            "execution_count": 21,
            "metadata": {},
            "outputs": [
                {
                    "data": {
                        "text/plain": "{'translations': [{'translation': '\u0645\u0631\u062d\u0628\u0627 \u0623\u0646\u0627 \u0623\u062d\u0627\u0648\u0644 \u0623\u0646 \u0623\u062a\u0631\u062c\u0645'}],\n 'word_count': 6,\n 'character_count': 30}"
                    },
                    "execution_count": 21,
                    "metadata": {},
                    "output_type": "execute_result"
                }
            ],
            "source": "# get the results from the end point\nresponse.get_result()"
        },
        {
            "cell_type": "code",
            "execution_count": 24,
            "metadata": {},
            "outputs": [
                {
                    "name": "stdout",
                    "output_type": "stream",
                    "text": "\u0645\u0631\u062d\u0628\u0627 \u0623\u0646\u0627 \u0623\u062d\u0627\u0648\u0644 \u0623\u0646 \u0623\u062a\u0631\u062c\u0645\n"
                }
            ],
            "source": "# get the text from response\nTextArb=response.get_result()['translations'][0]['translation']\nprint(TextArb)"
        },
        {
            "cell_type": "code",
            "execution_count": null,
            "metadata": {},
            "outputs": [],
            "source": ""
        },
        {
            "cell_type": "code",
            "execution_count": null,
            "metadata": {},
            "outputs": [],
            "source": ""
        }
    ],
    "metadata": {
        "kernelspec": {
            "display_name": "Python 3",
            "language": "python",
            "name": "python3"
        },
        "language_info": {
            "codemirror_mode": {
                "name": "ipython",
                "version": 3
            },
            "file_extension": ".py",
            "mimetype": "text/x-python",
            "name": "python",
            "nbconvert_exporter": "python",
            "pygments_lexer": "ipython3",
            "version": "3.7.1"
        }
    },
    "nbformat": 4,
    "nbformat_minor": 2
}