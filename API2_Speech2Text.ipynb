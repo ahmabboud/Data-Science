{
    "cells": [
        {
            "cell_type": "code",
            "execution_count": null,
            "metadata": {},
            "outputs": [],
            "source": "#API 2 speech to text and translate\n"
        },
        {
            "cell_type": "code",
            "execution_count": 2,
            "metadata": {},
            "outputs": [
                {
                    "name": "stdout",
                    "output_type": "stream",
                    "text": "Collecting watson-developer-cloud\n  Downloading watson-developer-cloud-2.10.1.tar.gz (248 kB)\nRequirement already satisfied, skipping upgrade: requests<3.0,>=2.0 in c:\\programdata\\anaconda3\\lib\\site-packages (from watson-developer-cloud) (2.21.0)\nRequirement already satisfied, skipping upgrade: python_dateutil>=2.5.3 in c:\\programdata\\anaconda3\\lib\\site-packages (from watson-developer-cloud) (2.7.5)\nCollecting websocket-client==0.48.0\n  Downloading websocket_client-0.48.0-py2.py3-none-any.whl (198 kB)\nRequirement already satisfied, skipping upgrade: certifi>=2017.4.17 in c:\\programdata\\anaconda3\\lib\\site-packages (from requests<3.0,>=2.0->watson-developer-cloud) (2019.11.28)\nRequirement already satisfied, skipping upgrade: idna<2.9,>=2.5 in c:\\programdata\\anaconda3\\lib\\site-packages (from requests<3.0,>=2.0->watson-developer-cloud) (2.8)\nRequirement already satisfied, skipping upgrade: urllib3<1.25,>=1.21.1 in c:\\programdata\\anaconda3\\lib\\site-packages (from requests<3.0,>=2.0->watson-developer-cloud) (1.24.1)\nRequirement already satisfied, skipping upgrade: chardet<3.1.0,>=3.0.2 in c:\\programdata\\anaconda3\\lib\\site-packages (from requests<3.0,>=2.0->watson-developer-cloud) (3.0.4)\nRequirement already satisfied, skipping upgrade: six>=1.5 in c:\\users\\ahb\\appdata\\roaming\\python\\python37\\site-packages (from python_dateutil>=2.5.3->watson-developer-cloud) (1.12.0)\nBuilding wheels for collected packages: watson-developer-cloud\n  Building wheel for watson-developer-cloud (setup.py): started\n  Building wheel for watson-developer-cloud (setup.py): finished with status 'done'\n  Created wheel for watson-developer-cloud: filename=watson_developer_cloud-2.10.1-py3-none-any.whl size=252818 sha256=e6ee23c23c513987715e49595cd0280f430daa84806a34194642a36b3f75212a\n  Stored in directory: c:\\users\\ahb\\appdata\\local\\pip\\cache\\wheels\\45\\68\\30\\690e59503415433f536c00ef66656a1aa045e927a2ad6ab7fc\nSuccessfully built watson-developer-cloud\nInstalling collected packages: websocket-client, watson-developer-cloud\nSuccessfully installed watson-developer-cloud-2.10.1 websocket-client-0.48.0\n"
                }
            ],
            "source": "!pip install --upgrade watson-developer-cloud"
        },
        {
            "cell_type": "code",
            "execution_count": 1,
            "metadata": {},
            "outputs": [],
            "source": "\nfrom watson_developer_cloud import SpeechToTextV1 as SpeechToText\n"
        },
        {
            "cell_type": "code",
            "execution_count": 2,
            "metadata": {},
            "outputs": [],
            "source": "# Set the URL and keys\nurl_s2t=\"https://api.eu-gb.speech-to-text.watson.cloud.ibm.com/instances/dd9a47e2-e5c0-4b5e-a874-d95ef8eca87c\"\nkeyS2T=\"SYj85h-kD6FR16vBC3vgpRhU7wcltXACEi_j-fF5Dc92\"\n"
        },
        {
            "cell_type": "code",
            "execution_count": 3,
            "metadata": {},
            "outputs": [],
            "source": "#Create API adapter object\ns2t=SpeechToText(iam_apikey=keyS2T,url=url_s2t)\n"
        },
        {
            "cell_type": "code",
            "execution_count": 4,
            "metadata": {},
            "outputs": [],
            "source": "#open the audio file as read binary mode\nwith open(\"resources/data/audio-file.flac\", mode=\"rb\") as spfile:\n    response=s2t.recognize(audio=spfile, content_type=\"audio/flac\")\n    \n    "
        },
        {
            "cell_type": "code",
            "execution_count": 5,
            "metadata": {},
            "outputs": [
                {
                    "data": {
                        "text/plain": "{'results': [{'alternatives': [{'confidence': 0.94,\n     'transcript': 'several tornadoes touched down as a line of severe thunderstorms swept through Colorado on Sunday '}],\n   'final': True}],\n 'result_index': 0}"
                    },
                    "execution_count": 5,
                    "metadata": {},
                    "output_type": "execute_result"
                }
            ],
            "source": "# Show the response results\nresponse.result"
        },
        {
            "cell_type": "code",
            "execution_count": 6,
            "metadata": {},
            "outputs": [
                {
                    "data": {
                        "text/plain": "'several tornadoes touched down as a line of severe thunderstorms swept through Colorado on Sunday '"
                    },
                    "execution_count": 6,
                    "metadata": {},
                    "output_type": "execute_result"
                }
            ],
            "source": "#Get the recognized string\nText=response.result['results'][0]['alternatives'][0]['transcript']\nText"
        },
        {
            "cell_type": "code",
            "execution_count": 7,
            "metadata": {},
            "outputs": [
                {
                    "data": {
                        "text/plain": "0.94"
                    },
                    "execution_count": 7,
                    "metadata": {},
                    "output_type": "execute_result"
                }
            ],
            "source": "# Show the confidence of the recognition\nconfidence=response.result['results'][0]['alternatives'][0]['confidence']\nconfidence"
        },
        {
            "cell_type": "code",
            "execution_count": null,
            "metadata": {},
            "outputs": [],
            "source": ""
        }
    ],
    "metadata": {
        "kernelspec": {
            "display_name": "Python 3",
            "language": "python",
            "name": "python3"
        },
        "language_info": {
            "codemirror_mode": {
                "name": "ipython",
                "version": 3
            },
            "file_extension": ".py",
            "mimetype": "text/x-python",
            "name": "python",
            "nbconvert_exporter": "python",
            "pygments_lexer": "ipython3",
            "version": "3.7.1"
        }
    },
    "nbformat": 4,
    "nbformat_minor": 2
}